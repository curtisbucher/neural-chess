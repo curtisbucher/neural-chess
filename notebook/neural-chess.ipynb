{
 "cells": [
  {
   "cell_type": "code",
   "execution_count": 1,
   "id": "7e479780",
   "metadata": {},
   "outputs": [],
   "source": [
    "# For reletive imports\n",
    "import sys\n",
    "sys.path.append('../../neural-chess')\n",
    "\n",
    "from data.loader import *"
   ]
  },
  {
   "cell_type": "code",
   "execution_count": 2,
   "id": "3596e740",
   "metadata": {},
   "outputs": [],
   "source": [
    "# Setup plotting\n",
    "import matplotlib.pyplot as plt\n",
    "plt.style.use('seaborn-whitegrid')\n",
    "# Set Matplotlib defaults\n",
    "plt.rc('figure', autolayout=True)\n",
    "plt.rc('axes', labelweight='bold', labelsize='large',\n",
    "       titleweight='bold', titlesize=18, titlepad=10)"
   ]
  },
  {
   "cell_type": "code",
   "execution_count": 3,
   "id": "4a7876a2",
   "metadata": {},
   "outputs": [],
   "source": [
    "# Various imports\n",
    "import numpy as np\n",
    "\n",
    "from tensorflow import keras\n",
    "from keras import layers"
   ]
  },
  {
   "cell_type": "code",
   "execution_count": 4,
   "id": "0d3061f3",
   "metadata": {},
   "outputs": [
    {
     "name": "stdout",
     "output_type": "stream",
     "text": [
      "Loading batch number 0\n",
      "Loading batch number 1\n",
      "Loading batch number 2\n",
      "Loading batch number 3\n",
      "Loading batch number 4\n",
      "Loading batch number 5\n",
      "Loading batch number 6\n",
      "Loading batch number 7\n",
      "Loading batch number 8\n",
      "Loading batch number 9\n",
      "Loading batch number 10\n",
      "Loading batch number 11\n",
      "Loading batch number 12\n",
      "Loading batch number 13\n",
      "Loading batch number 14\n",
      "Loading batch number 15\n",
      "Loading batch number 16\n",
      "Loading batch number 17\n",
      "Loading batch number 18\n",
      "Loading batch number 19\n",
      "Loading batch number 20\n",
      "Loading batch number 21\n",
      "Loading batch number 22\n",
      "Loading batch number 23\n",
      "Loading batch number 24\n",
      "Loading batch number 25\n",
      "Loading batch number 26\n",
      "Loading batch number 27\n",
      "Loading batch number 28\n",
      "Loading batch number 29\n"
     ]
    }
   ],
   "source": [
    "TRAIN_AUTOENCODER = 0 \n",
    "TRAIN_NET = 1\n",
    "\n",
    "TOTAL_AE = 250000\n",
    "TOTAL_MLP = 750000\n",
    "\n",
    "BS_AE = 20\n",
    "BS_MLP = 50\n",
    "EPOCHS_AE = 50 \n",
    "EPOCHS_MLP = 201 \n",
    "RATE_AE = 0.005\n",
    "DECAY_AE = 0.98\n",
    "RATE_MLP = 0.005\n",
    "DECAY_MLP = 0.98\n",
    "\n",
    "BIAS = 0.15\n",
    "\n",
    "N_INPUT = 769 \n",
    "ENCODING_1 = 600 \n",
    "ENCODING_2 = 400 \n",
    "ENCODING_3 = 200\n",
    "ENCODING_4 = 100\n",
    "\n",
    "HIDDEN_1 = 200\n",
    "HIDDEN_2 = 400 \n",
    "HIDDEN_3 = 200\n",
    "HIDDEN_4 = 100 \n",
    "N_OUT = 2\n",
    "\n",
    "VOLUME_SIZE = 25000\n",
    "\n",
    "export_path = 'net/exports'\n",
    "\n",
    "#Get the data from the game files\n",
    "validation_test, validation_test_l = getTest(N_INPUT, 40, 44)\n",
    "whiteWins, blackWins = getTrain(N_INPUT, TOTAL_MLP, VOLUME_SIZE)"
   ]
  },
  {
   "cell_type": "code",
   "execution_count": 5,
   "id": "8250610f",
   "metadata": {},
   "outputs": [
    {
     "name": "stdout",
     "output_type": "stream",
     "text": [
      "Input Shape: (769,)\n",
      "Metal device set to: Apple M1 Pro\n",
      "\n",
      "systemMemory: 16.00 GB\n",
      "maxCacheSize: 5.33 GB\n",
      "\n"
     ]
    },
    {
     "name": "stderr",
     "output_type": "stream",
     "text": [
      "2022-03-20 18:56:46.597682: I tensorflow/core/common_runtime/pluggable_device/pluggable_device_factory.cc:305] Could not identify NUMA node of platform GPU ID 0, defaulting to 0. Your kernel may not have been built with NUMA support.\n",
      "2022-03-20 18:56:46.597850: I tensorflow/core/common_runtime/pluggable_device/pluggable_device_factory.cc:271] Created TensorFlow device (/job:localhost/replica:0/task:0/device:GPU:0 with 0 MB memory) -> physical PluggableDevice (device: 0, name: METAL, pci bus id: <undefined>)\n"
     ]
    }
   ],
   "source": [
    "# Creating the siamese autoencoders. SHAPE IS OFF, only position and player to move, not other data\n",
    "input_shape = blackWins[0].shape\n",
    "print(\"Input Shape:\", input_shape)\n",
    "\n",
    "# Layer 1\n",
    "Pos2Vec = keras.Sequential([\n",
    "    # layers.Dense(769, activation='relu', input_shape=input_shape),\n",
    "    layers.Dense(600, activation='relu', input_shape=input_shape),\n",
    "    layers.Dense(769, activation='sigmoid'),\n",
    "])"
   ]
  },
  {
   "cell_type": "code",
   "execution_count": 6,
   "id": "be851e51",
   "metadata": {},
   "outputs": [
    {
     "name": "stdout",
     "output_type": "stream",
     "text": [
      "Defining Learning Rate\n",
      "Compiling\n"
     ]
    }
   ],
   "source": [
    "print(\"Defining Learning Rate\")\n",
    "sample_size = 10000\n",
    "# Defining a decaying learning rate\n",
    "lr_schedule = keras.optimizers.schedules.ExponentialDecay(\n",
    "    initial_learning_rate=0.005,\n",
    "    decay_steps= sample_size / 200,\n",
    "    decay_rate=0.98,\n",
    "    name=None)\n",
    "    \n",
    "# Compiling model\n",
    "print(\"Compiling\")\n",
    "Pos2Vec.compile(\n",
    "    optimizer=keras.optimizers.SGD(learning_rate=lr_schedule),\n",
    "    loss='mean_squared_error',\n",
    ")"
   ]
  },
  {
   "cell_type": "code",
   "execution_count": 7,
   "id": "b5d103ce",
   "metadata": {},
   "outputs": [
    {
     "name": "stdout",
     "output_type": "stream",
     "text": [
      "Generating random train\n",
      "Training\n",
      "Epoch 1/10\n"
     ]
    },
    {
     "name": "stderr",
     "output_type": "stream",
     "text": [
      "2022-03-20 18:56:46.981950: W tensorflow/core/platform/profile_utils/cpu_utils.cc:128] Failed to get CPU frequency: 0 Hz\n",
      "2022-03-20 18:56:47.094573: I tensorflow/core/grappler/optimizers/custom_graph_optimizer_registry.cc:112] Plugin optimizer for device_type GPU is enabled.\n"
     ]
    },
    {
     "name": "stdout",
     "output_type": "stream",
     "text": [
      "625/625 [==============================] - 3s 4ms/step - loss: 0.2504 - val_loss: 0.2498\n",
      "Epoch 2/10\n",
      "  1/625 [..............................] - ETA: 2s - loss: 0.2500"
     ]
    },
    {
     "name": "stderr",
     "output_type": "stream",
     "text": [
      "2022-03-20 18:56:49.452841: I tensorflow/core/grappler/optimizers/custom_graph_optimizer_registry.cc:112] Plugin optimizer for device_type GPU is enabled.\n"
     ]
    },
    {
     "name": "stdout",
     "output_type": "stream",
     "text": [
      "625/625 [==============================] - 2s 4ms/step - loss: 0.2493 - val_loss: 0.2488\n",
      "Epoch 3/10\n",
      "625/625 [==============================] - 2s 4ms/step - loss: 0.2484 - val_loss: 0.2480\n",
      "Epoch 4/10\n",
      "625/625 [==============================] - 2s 4ms/step - loss: 0.2477 - val_loss: 0.2474\n",
      "Epoch 5/10\n",
      "625/625 [==============================] - 2s 4ms/step - loss: 0.2472 - val_loss: 0.2470\n",
      "Epoch 6/10\n",
      "625/625 [==============================] - 2s 4ms/step - loss: 0.2468 - val_loss: 0.2466\n",
      "Epoch 7/10\n",
      "625/625 [==============================] - 2s 4ms/step - loss: 0.2465 - val_loss: 0.2463\n",
      "Epoch 8/10\n",
      "625/625 [==============================] - 2s 4ms/step - loss: 0.2462 - val_loss: 0.2461\n",
      "Epoch 9/10\n",
      "625/625 [==============================] - 2s 4ms/step - loss: 0.2460 - val_loss: 0.2459\n",
      "Epoch 10/10\n",
      "625/625 [==============================] - 2s 4ms/step - loss: 0.2459 - val_loss: 0.2458\n"
     ]
    }
   ],
   "source": [
    "# whiteWins, blackWins\n",
    "print(\"Generating random train\")\n",
    "sample_size = 10000#1000000\n",
    "test_size= 1000#1000\n",
    "white_sample = whiteWins[np.random.randint(whiteWins.shape[0], size=sample_size), :]\n",
    "black_sample = blackWins[np.random.randint(blackWins.shape[0], size=sample_size), :]\n",
    "\n",
    "white_test = whiteWins[np.random.randint(whiteWins.shape[0], size=test_size), :]\n",
    "black_test = blackWins[np.random.randint(blackWins.shape[0], size=test_size), :]\n",
    "\n",
    "autoencoder_train = np.concatenate([white_sample, black_sample])\n",
    "autoencoder_test = np.concatenate([white_test, black_test])\n",
    "\n",
    "early_stopping = keras.callbacks.EarlyStopping(\n",
    "    patience=500,\n",
    "    min_delta=0.0001,\n",
    "    restore_best_weights=True,\n",
    ")\n",
    "\n",
    "print(\"Training\")\n",
    "history = Pos2Vec.fit(\n",
    "    autoencoder_train, autoencoder_train,\n",
    "    validation_data=(autoencoder_test, autoencoder_test),\n",
    "    batch_size=None,\n",
    "    epochs=10, #200\n",
    "    callbacks=[early_stopping],\n",
    "    verbose=1,\n",
    ")"
   ]
  },
  {
   "cell_type": "code",
   "execution_count": 8,
   "id": "0fa81313",
   "metadata": {},
   "outputs": [],
   "source": [
    "# Training the 400 node layer\n",
    "layer_1 = Pos2Vec.layers[0] # 769 - 600nodes\n",
    "layer_2 = Pos2Vec.layers[1] # 600 - 769nodes\n",
    "\n",
    "layer_1.trainable = False\n",
    "layer_2.trainable = False\n",
    "\n",
    "Pos2Vec_2 = keras.Sequential([\n",
    "    # layers.Dense(769, activation='relu', input_shape=input_shape),\n",
    "    layer_1,\n",
    "    layers.Dense(400, activation='relu'),\n",
    "    layers.Dense(600, activation='relu'),\n",
    "    layer_2,\n",
    "])"
   ]
  },
  {
   "cell_type": "code",
   "execution_count": 9,
   "id": "978255ec",
   "metadata": {},
   "outputs": [],
   "source": [
    "lr_schedule = keras.optimizers.schedules.ExponentialDecay(\n",
    "    0.005,\n",
    "    decay_steps=100000,\n",
    "    decay_rate=0.98)\n",
    "\n",
    "decay_optimizer = keras.optimizers.SGD(learning_rate=lr_schedule)"
   ]
  },
  {
   "cell_type": "code",
   "execution_count": 10,
   "id": "07e52ab3",
   "metadata": {},
   "outputs": [],
   "source": [
    "# Compiling model\n",
    "Pos2Vec_2.compile(\n",
    "    optimizer=decay_optimizer,\n",
    "    loss='mean_squared_error',\n",
    ")"
   ]
  },
  {
   "cell_type": "code",
   "execution_count": 11,
   "id": "7767801c",
   "metadata": {},
   "outputs": [
    {
     "name": "stdout",
     "output_type": "stream",
     "text": [
      "Training\n",
      "Epoch 1/10\n",
      " 28/625 [>.............................] - ETA: 2s - loss: 0.2481 "
     ]
    },
    {
     "name": "stderr",
     "output_type": "stream",
     "text": [
      "2022-03-20 18:57:11.050469: I tensorflow/core/grappler/optimizers/custom_graph_optimizer_registry.cc:112] Plugin optimizer for device_type GPU is enabled.\n"
     ]
    },
    {
     "name": "stdout",
     "output_type": "stream",
     "text": [
      "617/625 [============================>.] - ETA: 0s - loss: 0.2480"
     ]
    },
    {
     "name": "stderr",
     "output_type": "stream",
     "text": [
      "2022-03-20 18:57:13.585828: I tensorflow/core/grappler/optimizers/custom_graph_optimizer_registry.cc:112] Plugin optimizer for device_type GPU is enabled.\n"
     ]
    },
    {
     "name": "stdout",
     "output_type": "stream",
     "text": [
      "625/625 [==============================] - 3s 4ms/step - loss: 0.2480 - val_loss: 0.2478\n",
      "Epoch 2/10\n",
      "625/625 [==============================] - 3s 5ms/step - loss: 0.2477 - val_loss: 0.2476\n",
      "Epoch 3/10\n",
      "625/625 [==============================] - 3s 5ms/step - loss: 0.2474 - val_loss: 0.2473\n",
      "Epoch 4/10\n",
      "625/625 [==============================] - 3s 4ms/step - loss: 0.2471 - val_loss: 0.2469\n",
      "Epoch 5/10\n",
      "625/625 [==============================] - 3s 4ms/step - loss: 0.2468 - val_loss: 0.2466\n",
      "Epoch 6/10\n",
      "625/625 [==============================] - 3s 4ms/step - loss: 0.2464 - val_loss: 0.2463\n",
      "Epoch 7/10\n",
      "625/625 [==============================] - 3s 5ms/step - loss: 0.2461 - val_loss: 0.2459\n",
      "Epoch 8/10\n",
      "625/625 [==============================] - 3s 4ms/step - loss: 0.2457 - val_loss: 0.2455\n",
      "Epoch 9/10\n",
      "625/625 [==============================] - 3s 4ms/step - loss: 0.2453 - val_loss: 0.2451\n",
      "Epoch 10/10\n",
      "625/625 [==============================] - 3s 4ms/step - loss: 0.2449 - val_loss: 0.2447\n"
     ]
    }
   ],
   "source": [
    "print(\"Training\")\n",
    "history = Pos2Vec_2.fit(\n",
    "    autoencoder_train, autoencoder_train,\n",
    "    validation_data=(autoencoder_test, autoencoder_test),\n",
    "    batch_size=None,\n",
    "    epochs=10, #200\n",
    "    callbacks=[early_stopping],\n",
    "    verbose=1,\n",
    ")"
   ]
  },
  {
   "cell_type": "code",
   "execution_count": 12,
   "id": "6d75aa09",
   "metadata": {},
   "outputs": [],
   "source": [
    "# Training the 400 node layer\n",
    "layer_3 = Pos2Vec_2.layers[1] # 600 - 400nodes\n",
    "layer_4 = Pos2Vec_2.layers[2] # 400 - 600nodes\n",
    "\n",
    "layer_3.trainable = False\n",
    "layer_4.trainable = False\n",
    "\n",
    "Pos2Vec_3 = keras.Sequential([\n",
    "    # layers.Dense(769, activation='relu', input_shape=input_shape),\n",
    "    layer_1,\n",
    "    layer_3,\n",
    "    layers.Dense(200, activation='relu'),\n",
    "    layers.Dense(400, activation='relu'),\n",
    "    layer_4,\n",
    "    layer_2,\n",
    "])"
   ]
  },
  {
   "cell_type": "code",
   "execution_count": 13,
   "id": "6e4ccdba",
   "metadata": {},
   "outputs": [],
   "source": [
    "# Compiling model\n",
    "Pos2Vec_3.compile(\n",
    "    optimizer=decay_optimizer,\n",
    "    loss='mean_squared_error',\n",
    ")"
   ]
  },
  {
   "cell_type": "code",
   "execution_count": 14,
   "id": "4c02137a",
   "metadata": {},
   "outputs": [
    {
     "name": "stdout",
     "output_type": "stream",
     "text": [
      "Training\n",
      "Epoch 1/10\n",
      " 28/625 [>.............................] - ETA: 2s - loss: 0.2473 "
     ]
    },
    {
     "name": "stderr",
     "output_type": "stream",
     "text": [
      "2022-03-20 18:57:38.766425: I tensorflow/core/grappler/optimizers/custom_graph_optimizer_registry.cc:112] Plugin optimizer for device_type GPU is enabled.\n"
     ]
    },
    {
     "name": "stdout",
     "output_type": "stream",
     "text": [
      "616/625 [============================>.] - ETA: 0s - loss: 0.2472"
     ]
    },
    {
     "name": "stderr",
     "output_type": "stream",
     "text": [
      "2022-03-20 18:57:41.347932: I tensorflow/core/grappler/optimizers/custom_graph_optimizer_registry.cc:112] Plugin optimizer for device_type GPU is enabled.\n"
     ]
    },
    {
     "name": "stdout",
     "output_type": "stream",
     "text": [
      "625/625 [==============================] - 3s 4ms/step - loss: 0.2472 - val_loss: 0.2472\n",
      "Epoch 2/10\n",
      "625/625 [==============================] - 3s 4ms/step - loss: 0.2471 - val_loss: 0.2471\n",
      "Epoch 3/10\n",
      "625/625 [==============================] - 3s 4ms/step - loss: 0.2470 - val_loss: 0.2470\n",
      "Epoch 4/10\n",
      "625/625 [==============================] - 3s 4ms/step - loss: 0.2469 - val_loss: 0.2469\n",
      "Epoch 5/10\n",
      "625/625 [==============================] - 3s 4ms/step - loss: 0.2468 - val_loss: 0.2468\n",
      "Epoch 6/10\n",
      "625/625 [==============================] - 3s 4ms/step - loss: 0.2467 - val_loss: 0.2467\n",
      "Epoch 7/10\n",
      "625/625 [==============================] - 3s 4ms/step - loss: 0.2466 - val_loss: 0.2466\n",
      "Epoch 8/10\n",
      "625/625 [==============================] - 3s 5ms/step - loss: 0.2465 - val_loss: 0.2465\n",
      "Epoch 9/10\n",
      "625/625 [==============================] - 3s 5ms/step - loss: 0.2464 - val_loss: 0.2464\n",
      "Epoch 10/10\n",
      "625/625 [==============================] - 3s 4ms/step - loss: 0.2463 - val_loss: 0.2462\n"
     ]
    }
   ],
   "source": [
    "print(\"Training\")\n",
    "history = Pos2Vec_3.fit(\n",
    "    autoencoder_train, autoencoder_train,\n",
    "    validation_data=(autoencoder_test, autoencoder_test),\n",
    "    batch_size=None,\n",
    "    epochs=10, #200\n",
    "    callbacks=[early_stopping],\n",
    "    verbose=1,\n",
    ")"
   ]
  },
  {
   "cell_type": "code",
   "execution_count": 15,
   "id": "7bb37880",
   "metadata": {},
   "outputs": [],
   "source": [
    "# Training the 400 node layer\n",
    "layer_5 = Pos2Vec_3.layers[2] # 400 - 200nodes\n",
    "layer_6 = Pos2Vec_3.layers[3] # 200 - 400nodes\n",
    "\n",
    "layer_5.trainable = False\n",
    "layer_6.trainable = False\n",
    "\n",
    "Pos2Vec_4 = keras.Sequential([\n",
    "    # layers.Dense(769, activation='relu', input_shape=input_shape),\n",
    "    layer_1,\n",
    "    layer_3,\n",
    "    layer_5,\n",
    "    layers.Dense(100, activation='relu'),\n",
    "    layers.Dense(200, activation='relu'),\n",
    "    layer_6,\n",
    "    layer_4,\n",
    "    layer_2,\n",
    "])"
   ]
  },
  {
   "cell_type": "code",
   "execution_count": 16,
   "id": "a74eb3bc",
   "metadata": {},
   "outputs": [],
   "source": [
    "\n",
    "# Compiling model\n",
    "Pos2Vec_4.compile(\n",
    "    optimizer=decay_optimizer,\n",
    "    loss='mean_squared_error',\n",
    ")"
   ]
  },
  {
   "cell_type": "code",
   "execution_count": 17,
   "id": "10a0ed5c",
   "metadata": {},
   "outputs": [
    {
     "name": "stdout",
     "output_type": "stream",
     "text": [
      "Training\n",
      "Epoch 1/10\n",
      " 25/625 [>.............................] - ETA: 2s - loss: 0.2474 "
     ]
    },
    {
     "name": "stderr",
     "output_type": "stream",
     "text": [
      "2022-03-20 18:58:06.554640: I tensorflow/core/grappler/optimizers/custom_graph_optimizer_registry.cc:112] Plugin optimizer for device_type GPU is enabled.\n"
     ]
    },
    {
     "name": "stdout",
     "output_type": "stream",
     "text": [
      "625/625 [==============================] - ETA: 0s - loss: 0.2474"
     ]
    },
    {
     "name": "stderr",
     "output_type": "stream",
     "text": [
      "2022-03-20 18:58:09.622236: I tensorflow/core/grappler/optimizers/custom_graph_optimizer_registry.cc:112] Plugin optimizer for device_type GPU is enabled.\n"
     ]
    },
    {
     "name": "stdout",
     "output_type": "stream",
     "text": [
      "625/625 [==============================] - 3s 5ms/step - loss: 0.2474 - val_loss: 0.2474\n",
      "Epoch 2/10\n",
      "625/625 [==============================] - 3s 5ms/step - loss: 0.2474 - val_loss: 0.2474\n",
      "Epoch 3/10\n",
      "625/625 [==============================] - 3s 5ms/step - loss: 0.2474 - val_loss: 0.2473\n",
      "Epoch 4/10\n",
      "625/625 [==============================] - 3s 5ms/step - loss: 0.2473 - val_loss: 0.2473\n",
      "Epoch 5/10\n",
      "625/625 [==============================] - 4s 6ms/step - loss: 0.2473 - val_loss: 0.2473\n",
      "Epoch 6/10\n",
      "625/625 [==============================] - 3s 5ms/step - loss: 0.2473 - val_loss: 0.2472\n",
      "Epoch 7/10\n",
      "625/625 [==============================] - 3s 5ms/step - loss: 0.2472 - val_loss: 0.2472\n",
      "Epoch 8/10\n",
      "625/625 [==============================] - 4s 6ms/step - loss: 0.2472 - val_loss: 0.2472\n",
      "Epoch 9/10\n",
      "625/625 [==============================] - 3s 5ms/step - loss: 0.2471 - val_loss: 0.2471\n",
      "Epoch 10/10\n",
      "625/625 [==============================] - 3s 5ms/step - loss: 0.2471 - val_loss: 0.2471\n"
     ]
    }
   ],
   "source": [
    "print(\"Training\")\n",
    "history = Pos2Vec_4.fit(\n",
    "    autoencoder_train, autoencoder_train,\n",
    "    validation_data=(autoencoder_test, autoencoder_test),\n",
    "    batch_size=None,\n",
    "    epochs=10, #200\n",
    "    callbacks=[early_stopping],\n",
    "    verbose=1,\n",
    ")"
   ]
  },
  {
   "cell_type": "code",
   "execution_count": 18,
   "id": "f4d86927",
   "metadata": {},
   "outputs": [],
   "source": [
    "# Training the 400 node layer\n",
    "layer_7 = Pos2Vec_4.layers[3] # 400 - 200nodes\n",
    "layer_8 = Pos2Vec_4.layers[4] # 200 - 400nodes\n",
    "\n",
    "layer_7.trainable = False\n",
    "layer_8.trainable = False\n",
    "\n",
    "Pos2Vec_A = keras.Sequential([\n",
    "    # layers.Dense(769, activation='relu', input_shape=input_shape),\n",
    "    layer_1,\n",
    "    layer_3,\n",
    "    layer_5,\n",
    "    layer_7,\n",
    "])"
   ]
  },
  {
   "cell_type": "code",
   "execution_count": 19,
   "id": "3b09a15b",
   "metadata": {},
   "outputs": [
    {
     "data": {
      "image/png": "[encoded data removed]",
      "text/plain": [
       "<IPython.core.display.Image object>"
      ]
     },
     "execution_count": 19,
     "metadata": {},
     "output_type": "execute_result"
    }
   ],
   "source": [
    "import pydotplus\n",
    "from keras.utils.vis_utils import plot_model\n",
    "from keras.layers import concatenate\n",
    "\n",
    "pydot = pydotplus\n",
    "\n",
    "# Duplicating siamese Pos2Vec with tied weights\n",
    "la0, la1, la2, la3 = Pos2Vec_A.layers\n",
    "Pos2Vec_B_in = keras.layers.Input(shape=(769,))\n",
    "lc0 = la0(Pos2Vec_B_in)\n",
    "lc1 = la1(lc0)\n",
    "lc2 = la2(lc1)\n",
    "lc2 = la3(lc2)\n",
    "\n",
    "Pos2Vec_B = keras.Model(inputs=Pos2Vec_B_in, outputs=lc2)\n",
    "\n",
    "# Creating DeepChess layers to compare pos2vec\n",
    "twin_p2v_in = concatenate([Pos2Vec_A.output, Pos2Vec_B.output])\n",
    "l0 = layers.Dense(400, activation=\"relu\")(twin_p2v_in)\n",
    "l1 = layers.Dense(200, activation=\"relu\")(l0)\n",
    "l2 = layers.Dense(100, activation=\"relu\")(l1)\n",
    "deepchess_out = layers.Dense(2, activation=\"softmax\")(l2)\n",
    "\n",
    "DeepChess = keras.Model(\n",
    "    inputs=[Pos2Vec_A.input, Pos2Vec_B.input], \n",
    "    outputs=[deepchess_out])\n",
    "\n",
    "plot_model(DeepChess,\n",
    "            show_shapes=True)"
   ]
  },
  {
   "cell_type": "code",
   "execution_count": 83,
   "id": "7a8cfbb1",
   "metadata": {},
   "outputs": [
    {
     "name": "stdout",
     "output_type": "stream",
     "text": [
      "Generating random sample\n"
     ]
    }
   ],
   "source": [
    "# whiteWins, blackWins\n",
    "print(\"Generating random sample\")\n",
    "train_size = 10000#1000000\n",
    "\n",
    "## Generating training data\n",
    "# sampling white wins and losses (black wins)\n",
    "white_w_train = whiteWins[np.random.randint(whiteWins.shape[0], size=train_size), :]\n",
    "white_l_train = blackWins[np.random.randint(blackWins.shape[0], size=train_size), :]\n",
    "\n",
    "# Creating (W, L) or (L, W) pairs\n",
    "DeepChess_in_A = np.concatenate((white_w_train[:train_size // 2], white_l_train[:train_size // 2]))\n",
    "DeepChess_in_B = np.concatenate((white_l_train[train_size // 2:], white_w_train[train_size // 2:]))\n",
    "\n",
    "# Creating (1, 0) or (0, 1) pairs corresponding to input\n",
    "DeepChess_out = np.array([(1,0)] * (train_size // 2) + \n",
    "                            [(0,1)] * (train_size // 2))"
   ]
  },
  {
   "cell_type": "code",
   "execution_count": 84,
   "id": "7171aa12",
   "metadata": {},
   "outputs": [],
   "source": [
    "lr_schedule2 = keras.optimizers.schedules.ExponentialDecay(\n",
    "    0.01,\n",
    "    decay_steps=100,\n",
    "    decay_rate=0.99)\n",
    "\n",
    "decay_optimizer2 = keras.optimizers.SGD(learning_rate=lr_schedule2)\n",
    "\n",
    "# Compiling model\n",
    "DeepChess.compile(\n",
    "    optimizer=\"adam\",\n",
    "    loss='categorical_crossentropy',\n",
    ")"
   ]
  },
  {
   "cell_type": "code",
   "execution_count": 90,
   "id": "24e839ff",
   "metadata": {},
   "outputs": [
    {
     "name": "stdout",
     "output_type": "stream",
     "text": [
      "Training\n",
      "Epoch 1/100\n",
      "282/282 [==============================] - 2s 8ms/step - loss: 0.1390 - val_loss: 0.3578\n",
      "Epoch 2/100\n",
      "282/282 [==============================] - 2s 8ms/step - loss: 0.1343 - val_loss: 0.3076\n",
      "Epoch 3/100\n",
      "282/282 [==============================] - 3s 9ms/step - loss: 0.1292 - val_loss: 0.3670\n",
      "Epoch 4/100\n",
      "282/282 [==============================] - 2s 8ms/step - loss: 0.1258 - val_loss: 0.3640\n",
      "Epoch 5/100\n",
      "282/282 [==============================] - 2s 8ms/step - loss: 0.1201 - val_loss: 0.4111\n",
      "Epoch 6/100\n",
      "282/282 [==============================] - 2s 8ms/step - loss: 0.1144 - val_loss: 0.4422\n",
      "Epoch 7/100\n",
      "282/282 [==============================] - 2s 8ms/step - loss: 0.1106 - val_loss: 0.4204\n",
      "Epoch 8/100\n",
      "282/282 [==============================] - 2s 8ms/step - loss: 0.1073 - val_loss: 0.4959\n",
      "Epoch 9/100\n",
      "282/282 [==============================] - 2s 8ms/step - loss: 0.1014 - val_loss: 0.4258\n",
      "Epoch 10/100\n",
      "282/282 [==============================] - 2s 8ms/step - loss: 0.0997 - val_loss: 0.4040\n",
      "Epoch 11/100\n",
      "282/282 [==============================] - 2s 8ms/step - loss: 0.0957 - val_loss: 0.4113\n",
      "Epoch 12/100\n",
      "282/282 [==============================] - 2s 8ms/step - loss: 0.0925 - val_loss: 0.4563\n",
      "Epoch 13/100\n",
      "282/282 [==============================] - 2s 8ms/step - loss: 0.0885 - val_loss: 0.3542\n",
      "Epoch 14/100\n",
      "282/282 [==============================] - 2s 8ms/step - loss: 0.0858 - val_loss: 0.3783\n",
      "Epoch 15/100\n",
      "282/282 [==============================] - 2s 8ms/step - loss: 0.0825 - val_loss: 0.4430\n",
      "Epoch 16/100\n",
      "282/282 [==============================] - 2s 8ms/step - loss: 0.0802 - val_loss: 0.4527\n",
      "Epoch 17/100\n",
      "282/282 [==============================] - 2s 8ms/step - loss: 0.0781 - val_loss: 0.4269\n",
      "Epoch 18/100\n",
      "282/282 [==============================] - 2s 8ms/step - loss: 0.0765 - val_loss: 0.4719\n",
      "Epoch 19/100\n",
      "282/282 [==============================] - 2s 8ms/step - loss: 0.0737 - val_loss: 0.4810\n",
      "Epoch 20/100\n",
      "282/282 [==============================] - 2s 8ms/step - loss: 0.0720 - val_loss: 0.4191\n",
      "Epoch 21/100\n",
      "282/282 [==============================] - 2s 8ms/step - loss: 0.0685 - val_loss: 0.4765\n",
      "Epoch 22/100\n",
      "282/282 [==============================] - 2s 8ms/step - loss: 0.0677 - val_loss: 0.4676\n",
      "Epoch 23/100\n",
      "282/282 [==============================] - 2s 8ms/step - loss: 0.0635 - val_loss: 0.4714\n",
      "Epoch 24/100\n",
      "282/282 [==============================] - 2s 8ms/step - loss: 0.0611 - val_loss: 0.4413\n",
      "Epoch 25/100\n",
      "282/282 [==============================] - 2s 8ms/step - loss: 0.0625 - val_loss: 0.4851\n",
      "Epoch 26/100\n",
      "282/282 [==============================] - 2s 8ms/step - loss: 0.0593 - val_loss: 0.4076\n",
      "Epoch 27/100\n",
      "282/282 [==============================] - 2s 8ms/step - loss: 0.0587 - val_loss: 0.4382\n",
      "Epoch 28/100\n",
      "282/282 [==============================] - 2s 8ms/step - loss: 0.0594 - val_loss: 0.4350\n",
      "Epoch 29/100\n",
      "282/282 [==============================] - 2s 8ms/step - loss: 0.0547 - val_loss: 0.4689\n",
      "Epoch 30/100\n",
      "282/282 [==============================] - 2s 8ms/step - loss: 0.0510 - val_loss: 0.4200\n",
      "Epoch 31/100\n",
      "282/282 [==============================] - 2s 8ms/step - loss: 0.0516 - val_loss: 0.5125\n",
      "Epoch 32/100\n",
      "282/282 [==============================] - 2s 8ms/step - loss: 0.0499 - val_loss: 0.4602\n",
      "Epoch 33/100\n",
      "282/282 [==============================] - 2s 8ms/step - loss: 0.0505 - val_loss: 0.4781\n",
      "Epoch 34/100\n",
      "282/282 [==============================] - 2s 8ms/step - loss: 0.0497 - val_loss: 0.4920\n",
      "Epoch 35/100\n",
      "282/282 [==============================] - 2s 8ms/step - loss: 0.0474 - val_loss: 0.4573\n",
      "Epoch 36/100\n",
      "282/282 [==============================] - 3s 9ms/step - loss: 0.0436 - val_loss: 0.4921\n",
      "Epoch 37/100\n",
      "282/282 [==============================] - 2s 8ms/step - loss: 0.0450 - val_loss: 0.4593\n",
      "Epoch 38/100\n",
      "282/282 [==============================] - 2s 9ms/step - loss: 0.0415 - val_loss: 0.5083\n",
      "Epoch 39/100\n",
      "282/282 [==============================] - 2s 9ms/step - loss: 0.0422 - val_loss: 0.4583\n",
      "Epoch 40/100\n",
      "282/282 [==============================] - 2s 8ms/step - loss: 0.0448 - val_loss: 0.4389\n",
      "Epoch 41/100\n",
      "282/282 [==============================] - 2s 8ms/step - loss: 0.0412 - val_loss: 0.4995\n",
      "Epoch 42/100\n",
      "282/282 [==============================] - 2s 8ms/step - loss: 0.0388 - val_loss: 0.4773\n",
      "Epoch 43/100\n",
      "282/282 [==============================] - 2s 8ms/step - loss: 0.0410 - val_loss: 0.5252\n",
      "Epoch 44/100\n",
      "282/282 [==============================] - 2s 8ms/step - loss: 0.0402 - val_loss: 0.4855\n",
      "Epoch 45/100\n",
      "282/282 [==============================] - 2s 8ms/step - loss: 0.0367 - val_loss: 0.4919\n",
      "Epoch 46/100\n",
      "282/282 [==============================] - 2s 9ms/step - loss: 0.0364 - val_loss: 0.5118\n",
      "Epoch 47/100\n",
      "282/282 [==============================] - 2s 8ms/step - loss: 0.0380 - val_loss: 0.5056\n",
      "Epoch 48/100\n",
      "282/282 [==============================] - 2s 8ms/step - loss: 0.0417 - val_loss: 0.4564\n",
      "Epoch 49/100\n",
      "282/282 [==============================] - 3s 10ms/step - loss: 0.0344 - val_loss: 0.4904\n",
      "Epoch 50/100\n",
      "282/282 [==============================] - 3s 9ms/step - loss: 0.0352 - val_loss: 0.4807\n",
      "Epoch 51/100\n",
      "282/282 [==============================] - 2s 8ms/step - loss: 0.0287 - val_loss: 0.4977\n",
      "Epoch 52/100\n",
      "282/282 [==============================] - 2s 7ms/step - loss: 0.0306 - val_loss: 0.4149\n",
      "Epoch 53/100\n",
      "282/282 [==============================] - 2s 9ms/step - loss: 0.0353 - val_loss: 0.4681\n",
      "Epoch 54/100\n",
      "282/282 [==============================] - 2s 9ms/step - loss: 0.0326 - val_loss: 0.4861\n",
      "Epoch 55/100\n",
      "282/282 [==============================] - 3s 9ms/step - loss: 0.0318 - val_loss: 0.4867\n",
      "Epoch 56/100\n",
      "282/282 [==============================] - 2s 8ms/step - loss: 0.0284 - val_loss: 0.4634\n",
      "Epoch 57/100\n",
      "282/282 [==============================] - 2s 7ms/step - loss: 0.0284 - val_loss: 0.4539\n",
      "Epoch 58/100\n",
      "282/282 [==============================] - 2s 7ms/step - loss: 0.0253 - val_loss: 0.5209\n",
      "Epoch 59/100\n",
      "282/282 [==============================] - 2s 7ms/step - loss: 0.0285 - val_loss: 0.4722\n",
      "Epoch 60/100\n",
      "282/282 [==============================] - 2s 8ms/step - loss: 0.0272 - val_loss: 0.4729\n",
      "Epoch 61/100\n",
      "282/282 [==============================] - 2s 9ms/step - loss: 0.0287 - val_loss: 0.4665\n",
      "Epoch 62/100\n",
      "282/282 [==============================] - 3s 9ms/step - loss: 0.0331 - val_loss: 0.5107\n",
      "Epoch 63/100\n",
      "282/282 [==============================] - 2s 8ms/step - loss: 0.0277 - val_loss: 0.4862\n",
      "Epoch 64/100\n",
      "282/282 [==============================] - 2s 8ms/step - loss: 0.0257 - val_loss: 0.4880\n",
      "Epoch 65/100\n",
      "282/282 [==============================] - 2s 7ms/step - loss: 0.0228 - val_loss: 0.4766\n",
      "Epoch 66/100\n",
      "282/282 [==============================] - 2s 7ms/step - loss: 0.0227 - val_loss: 0.4744\n",
      "Epoch 67/100\n",
      "282/282 [==============================] - 2s 7ms/step - loss: 0.0266 - val_loss: 0.5019\n",
      "Epoch 68/100\n",
      "282/282 [==============================] - 2s 8ms/step - loss: 0.0301 - val_loss: 0.5249\n",
      "Epoch 69/100\n",
      "282/282 [==============================] - 3s 10ms/step - loss: 0.0269 - val_loss: 0.5059\n",
      "Epoch 70/100\n",
      "282/282 [==============================] - 2s 8ms/step - loss: 0.0220 - val_loss: 0.4441\n",
      "Epoch 71/100\n",
      "282/282 [==============================] - 2s 8ms/step - loss: 0.0216 - val_loss: 0.4518\n",
      "Epoch 72/100\n",
      "282/282 [==============================] - 2s 8ms/step - loss: 0.0349 - val_loss: 0.4790\n",
      "Epoch 73/100\n",
      "282/282 [==============================] - 2s 8ms/step - loss: 0.0195 - val_loss: 0.4719\n",
      "Epoch 74/100\n",
      "282/282 [==============================] - 2s 8ms/step - loss: 0.0243 - val_loss: 0.5451\n",
      "Epoch 75/100\n",
      "282/282 [==============================] - 2s 8ms/step - loss: 0.0246 - val_loss: 0.4632\n",
      "Epoch 76/100\n",
      "282/282 [==============================] - 2s 8ms/step - loss: 0.0253 - val_loss: 0.4823\n",
      "Epoch 77/100\n",
      "282/282 [==============================] - 2s 8ms/step - loss: 0.0198 - val_loss: 0.4667\n",
      "Epoch 78/100\n",
      "282/282 [==============================] - 2s 8ms/step - loss: 0.0194 - val_loss: 0.5216\n",
      "Epoch 79/100\n",
      "282/282 [==============================] - 2s 8ms/step - loss: 0.0256 - val_loss: 0.4832\n",
      "Epoch 80/100\n",
      "282/282 [==============================] - 2s 8ms/step - loss: 0.0249 - val_loss: 0.4978\n",
      "Epoch 81/100\n",
      "282/282 [==============================] - 2s 8ms/step - loss: 0.0167 - val_loss: 0.5218\n",
      "Epoch 82/100\n",
      "282/282 [==============================] - 2s 9ms/step - loss: 0.0207 - val_loss: 0.5165\n",
      "Epoch 83/100\n",
      "282/282 [==============================] - 2s 9ms/step - loss: 0.0255 - val_loss: 0.5183\n",
      "Epoch 84/100\n",
      "282/282 [==============================] - 2s 8ms/step - loss: 0.0181 - val_loss: 0.4577\n",
      "Epoch 85/100\n",
      "282/282 [==============================] - 2s 8ms/step - loss: 0.0240 - val_loss: 0.4937\n",
      "Epoch 86/100\n",
      "282/282 [==============================] - 2s 8ms/step - loss: 0.0232 - val_loss: 0.5333\n",
      "Epoch 87/100\n",
      "282/282 [==============================] - 2s 8ms/step - loss: 0.0147 - val_loss: 0.4836\n",
      "Epoch 88/100\n",
      "282/282 [==============================] - 2s 8ms/step - loss: 0.0185 - val_loss: 0.4973\n",
      "Epoch 89/100\n",
      "282/282 [==============================] - 2s 8ms/step - loss: 0.0190 - val_loss: 0.5875\n",
      "Epoch 90/100\n",
      "282/282 [==============================] - 2s 8ms/step - loss: 0.0246 - val_loss: 0.5232\n",
      "Epoch 91/100\n",
      "282/282 [==============================] - 2s 8ms/step - loss: 0.0270 - val_loss: 0.4702\n",
      "Epoch 92/100\n",
      "282/282 [==============================] - 2s 8ms/step - loss: 0.0210 - val_loss: 0.5312\n",
      "Epoch 93/100\n",
      "282/282 [==============================] - 2s 8ms/step - loss: 0.0154 - val_loss: 0.4759\n",
      "Epoch 94/100\n",
      "282/282 [==============================] - 2s 8ms/step - loss: 0.0121 - val_loss: 0.5118\n",
      "Epoch 95/100\n",
      "282/282 [==============================] - 2s 8ms/step - loss: 0.0171 - val_loss: 0.4555\n",
      "Epoch 96/100\n",
      "282/282 [==============================] - 2s 8ms/step - loss: 0.0303 - val_loss: 0.5056\n",
      "Epoch 97/100\n",
      "282/282 [==============================] - 2s 8ms/step - loss: 0.0166 - val_loss: 0.4762\n",
      "Epoch 98/100\n",
      "282/282 [==============================] - 2s 8ms/step - loss: 0.0221 - val_loss: 0.5034\n",
      "Epoch 99/100\n",
      "282/282 [==============================] - 2s 8ms/step - loss: 0.0177 - val_loss: 0.4935\n",
      "Epoch 100/100\n",
      "282/282 [==============================] - 2s 8ms/step - loss: 0.0175 - val_loss: 0.4638\n"
     ]
    }
   ],
   "source": [
    "early_stopping = keras.callbacks.EarlyStopping(\n",
    "    patience=500,\n",
    "    min_delta=0.0001,\n",
    "    restore_best_weights=True,\n",
    ")\n",
    "\n",
    "print(\"Training\")\n",
    "history = DeepChess.fit(\n",
    "    x=[DeepChess_in_A, DeepChess_in_B], y=DeepChess_out,\n",
    "    validation_split=0.1,\n",
    "    batch_size=None,\n",
    "    epochs=100, #1000\n",
    "    shuffle=True,\n",
    "    callbacks=[early_stopping],\n",
    "    use_multiprocessing=True,\n",
    "    verbose=1,\n",
    ")"
   ]
  },
  {
   "cell_type": "code",
   "execution_count": 92,
   "id": "51bfdabe",
   "metadata": {},
   "outputs": [
    {
     "data": {
      "text/plain": [
       "<tf.Tensor: shape=(10, 2), dtype=float32, numpy=\n",
       "array([[0.14632747, 0.89238447],\n",
       "       [0.        , 1.0141386 ],\n",
       "       [0.31277353, 0.7474295 ],\n",
       "       [0.        , 0.97547734],\n",
       "       [0.        , 0.8692372 ],\n",
       "       [0.27062958, 0.77073604],\n",
       "       [0.56747204, 0.44557148],\n",
       "       [1.0372422 , 0.        ],\n",
       "       [0.9562915 , 0.        ],\n",
       "       [0.        , 1.0283304 ]], dtype=float32)>"
      ]
     },
     "execution_count": 92,
     "metadata": {},
     "output_type": "execute_result"
    }
   ],
   "source": [
    "DeepChess([blackWins[0:10], whiteWins[0:10]])"
   ]
  },
  {
   "cell_type": "code",
   "execution_count": 93,
   "id": "0111d56e",
   "metadata": {},
   "outputs": [
    {
     "data": {
      "text/plain": [
       "<tf.Tensor: shape=(10, 2), dtype=float32, numpy=\n",
       "array([[0.        , 0.93043494],\n",
       "       [1.0251346 , 0.        ],\n",
       "       [1.0775771 , 0.        ],\n",
       "       [0.9528956 , 0.        ],\n",
       "       [0.19369021, 0.78351784],\n",
       "       [0.8084347 , 0.08368978],\n",
       "       [0.9877612 , 0.        ],\n",
       "       [0.09077638, 0.8926259 ],\n",
       "       [1.0366955 , 0.        ],\n",
       "       [0.9486895 , 0.        ]], dtype=float32)>"
      ]
     },
     "execution_count": 93,
     "metadata": {},
     "output_type": "execute_result"
    }
   ],
   "source": [
    "DeepChess([whiteWins[0:10], blackWins[0:10]])"
   ]
  },
  {
   "cell_type": "code",
   "execution_count": 95,
   "id": "b17c48f2",
   "metadata": {},
   "outputs": [
    {
     "name": "stdout",
     "output_type": "stream",
     "text": [
      "dict_keys(['loss', 'val_loss'])\n"
     ]
    }
   ],
   "source": [
    "print(history.history.keys())"
   ]
  },
  {
   "cell_type": "code",
   "execution_count": 94,
   "id": "f559df77",
   "metadata": {},
   "outputs": [
    {
     "ename": "KeyError",
     "evalue": "'accuracy'",
     "output_type": "error",
     "traceback": [
      "\u001b[0;31m---------------------------------------------------------------------------\u001b[0m",
      "\u001b[0;31mKeyError\u001b[0m                                  Traceback (most recent call last)",
      "\u001b[1;32m/Users/curtisbucher/Desktop/Programs/neural-chess/notebook/neural-chess.ipynb Cell 26'\u001b[0m in \u001b[0;36m<module>\u001b[0;34m\u001b[0m\n\u001b[1;32m      <a href='vscode-notebook-cell:/Users/curtisbucher/Desktop/Programs/neural-chess/notebook/neural-chess.ipynb#ch0000029?line=0'>1</a>\u001b[0m \u001b[39m# summarize history for accuracy\u001b[39;00m\n\u001b[0;32m----> <a href='vscode-notebook-cell:/Users/curtisbucher/Desktop/Programs/neural-chess/notebook/neural-chess.ipynb#ch0000029?line=1'>2</a>\u001b[0m plt\u001b[39m.\u001b[39mplot(history\u001b[39m.\u001b[39;49mhistory[\u001b[39m'\u001b[39;49m\u001b[39maccuracy\u001b[39;49m\u001b[39m'\u001b[39;49m])\n\u001b[1;32m      <a href='vscode-notebook-cell:/Users/curtisbucher/Desktop/Programs/neural-chess/notebook/neural-chess.ipynb#ch0000029?line=2'>3</a>\u001b[0m plt\u001b[39m.\u001b[39mplot(history\u001b[39m.\u001b[39mhistory[\u001b[39m'\u001b[39m\u001b[39mval_accuracy\u001b[39m\u001b[39m'\u001b[39m])\n\u001b[1;32m      <a href='vscode-notebook-cell:/Users/curtisbucher/Desktop/Programs/neural-chess/notebook/neural-chess.ipynb#ch0000029?line=3'>4</a>\u001b[0m plt\u001b[39m.\u001b[39mtitle(\u001b[39m'\u001b[39m\u001b[39mmodel accuracy\u001b[39m\u001b[39m'\u001b[39m)\n",
      "\u001b[0;31mKeyError\u001b[0m: 'accuracy'"
     ]
    }
   ],
   "source": [
    "# summarize history for accuracy\n",
    "plt.plot(history.history['accuracy'])\n",
    "plt.plot(history.history['val_accuracy'])\n",
    "plt.title('model accuracy')\n",
    "plt.ylabel('accuracy')\n",
    "plt.xlabel('epoch')\n",
    "plt.legend(['train', 'test'], loc='upper left')\n",
    "plt.show()"
   ]
  },
  {
   "cell_type": "code",
   "execution_count": 96,
   "id": "9dddae0f",
   "metadata": {},
   "outputs": [
    {
     "data": {
      "image/png": "[encoded data removed]",
      "text/plain": [
       "<Figure size 432x288 with 1 Axes>"
      ]
     },
     "metadata": {},
     "output_type": "display_data"
    }
   ],
   "source": [
    "# summarize history for loss\n",
    "plt.plot(history.history['loss'])\n",
    "plt.plot(history.history['val_loss'])\n",
    "plt.title('model loss')\n",
    "plt.ylabel('loss')\n",
    "plt.xlabel('epoch')\n",
    "plt.legend(['train', 'test'], loc='upper left')\n",
    "plt.show()"
   ]
  }
 ],
 "metadata": {
  "kernelspec": {
   "display_name": "Python 3 (ipykernel)",
   "language": "python",
   "name": "python3"
  },
  "language_info": {
   "codemirror_mode": {
    "name": "ipython",
    "version": 3
   },
   "file_extension": ".py",
   "mimetype": "text/x-python",
   "name": "python",
   "nbconvert_exporter": "python",
   "pygments_lexer": "ipython3",
   "version": "3.8.12"
  }
 },
 "nbformat": 4,
 "nbformat_minor": 5
}
