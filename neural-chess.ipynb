{
 "cells": [
  {
   "cell_type": "code",
   "execution_count": 97,
   "id": "7e479780",
   "metadata": {},
   "outputs": [],
   "source": [
    "from loader import *\n",
    "import util"
   ]
  },
  {
   "cell_type": "code",
   "execution_count": 98,
   "id": "3596e740",
   "metadata": {},
   "outputs": [],
   "source": [
    "# Setup plotting\n",
    "import matplotlib.pyplot as plt\n",
    "plt.style.use('seaborn-whitegrid')\n",
    "# Set Matplotlib defaults\n",
    "plt.rc('figure', autolayout=True)\n",
    "plt.rc('axes', labelweight='bold', labelsize='large',\n",
    "       titleweight='bold', titlesize=18, titlepad=10)"
   ]
  },
  {
   "cell_type": "code",
   "execution_count": 99,
   "id": "4a7876a2",
   "metadata": {},
   "outputs": [],
   "source": [
    "# Various imports\n",
    "import pandas as pd\n",
    "import numpy as np\n",
    "import random\n",
    "\n",
    "from tensorflow import keras\n",
    "from tensorflow.keras import layers\n",
    "from tensorflow.keras import callbacks\n",
    "from tensorflow.keras import optimizers"
   ]
  },
  {
   "cell_type": "code",
   "execution_count": 100,
   "id": "0d3061f3",
   "metadata": {},
   "outputs": [
    {
     "name": "stdout",
     "output_type": "stream",
     "text": [
      "Loading batch number 0\n",
      "Loading batch number 1\n",
      "Loading batch number 2\n",
      "Loading batch number 3\n",
      "Loading batch number 4\n",
      "Loading batch number 5\n",
      "Loading batch number 6\n",
      "Loading batch number 7\n",
      "Loading batch number 8\n",
      "Loading batch number 9\n",
      "Loading batch number 10\n",
      "Loading batch number 11\n",
      "Loading batch number 12\n",
      "Loading batch number 13\n",
      "Loading batch number 14\n",
      "Loading batch number 15\n",
      "Loading batch number 16\n",
      "Loading batch number 17\n",
      "Loading batch number 18\n",
      "Loading batch number 19\n",
      "Loading batch number 20\n",
      "Loading batch number 21\n",
      "Loading batch number 22\n",
      "Loading batch number 23\n",
      "Loading batch number 24\n",
      "Loading batch number 25\n",
      "Loading batch number 26\n",
      "Loading batch number 27\n",
      "Loading batch number 28\n",
      "Loading batch number 29\n"
     ]
    }
   ],
   "source": [
    "TRAIN_AUTOENCODER = 0 \n",
    "TRAIN_NET = 1\n",
    "\n",
    "TOTAL_AE = 250000\n",
    "TOTAL_MLP = 750000\n",
    "\n",
    "BS_AE = 20\n",
    "BS_MLP = 50\n",
    "EPOCHS_AE = 50 \n",
    "EPOCHS_MLP = 201 \n",
    "RATE_AE = 0.005\n",
    "DECAY_AE = 0.98\n",
    "RATE_MLP = 0.005\n",
    "DECAY_MLP = 0.98\n",
    "\n",
    "BIAS = 0.15\n",
    "\n",
    "N_INPUT = 769 \n",
    "ENCODING_1 = 600 \n",
    "ENCODING_2 = 400 \n",
    "ENCODING_3 = 200\n",
    "ENCODING_4 = 100\n",
    "\n",
    "HIDDEN_1 = 200\n",
    "HIDDEN_2 = 400 \n",
    "HIDDEN_3 = 200\n",
    "HIDDEN_4 = 100 \n",
    "N_OUT = 2\n",
    "\n",
    "VOLUME_SIZE = 25000\n",
    "\n",
    "export_path = 'net/exports'\n",
    "\n",
    "#Get the data from the game files\n",
    "validation_test, validation_test_l = getTest(N_INPUT, 40, 44)\n",
    "whiteWins, blackWins = getTrain(N_INPUT, TOTAL_MLP, VOLUME_SIZE)"
   ]
  },
  {
   "cell_type": "code",
   "execution_count": 101,
   "id": "8250610f",
   "metadata": {},
   "outputs": [
    {
     "name": "stdout",
     "output_type": "stream",
     "text": [
      "Input Shape: (769,)\n"
     ]
    }
   ],
   "source": [
    "# Creating the siamese autoencoders. SHAPE IS OFF, only position and player to move, not other data\n",
    "input_shape = blackWins[0].shape\n",
    "print(\"Input Shape:\", input_shape)\n",
    "\n",
    "# Layer 1\n",
    "Pos2Vec = keras.Sequential([\n",
    "    # layers.Dense(769, activation='relu', input_shape=input_shape),\n",
    "    layers.Dense(600, activation='relu', input_shape=input_shape),\n",
    "    layers.Dense(769, activation='sigmoid'),\n",
    "])"
   ]
  },
  {
   "cell_type": "code",
   "execution_count": 103,
   "id": "be851e51",
   "metadata": {},
   "outputs": [
    {
     "ename": "ImportError",
     "evalue": "cannot import name 'schedules' from 'keras.optimizers' (/Users/curtisbucher/.pyenv/versions/3.9.4/envs/neural-net/lib/python3.9/site-packages/keras/optimizers.py)",
     "output_type": "error",
     "traceback": [
      "\u001b[0;31m---------------------------------------------------------------------------\u001b[0m",
      "\u001b[0;31mImportError\u001b[0m                               Traceback (most recent call last)",
      "\u001b[0;32m/var/folders/02/gffkvq1564vcmlyv8x4h9vth0000gn/T/ipykernel_44488/2196816617.py\u001b[0m in \u001b[0;36m<module>\u001b[0;34m\u001b[0m\n\u001b[0;32m----> 1\u001b[0;31m \u001b[0;32mfrom\u001b[0m \u001b[0mkeras\u001b[0m\u001b[0;34m.\u001b[0m\u001b[0moptimizers\u001b[0m \u001b[0;32mimport\u001b[0m \u001b[0mschedules\u001b[0m\u001b[0;34m\u001b[0m\u001b[0;34m\u001b[0m\u001b[0m\n\u001b[0m\u001b[1;32m      2\u001b[0m \u001b[0;34m\u001b[0m\u001b[0m\n\u001b[1;32m      3\u001b[0m \u001b[0mprint\u001b[0m\u001b[0;34m(\u001b[0m\u001b[0;34m\"Defining Learning Rate\"\u001b[0m\u001b[0;34m)\u001b[0m\u001b[0;34m\u001b[0m\u001b[0;34m\u001b[0m\u001b[0m\n\u001b[1;32m      4\u001b[0m \u001b[0;31m# Defining a decaying learning rate\u001b[0m\u001b[0;34m\u001b[0m\u001b[0;34m\u001b[0m\u001b[0;34m\u001b[0m\u001b[0m\n\u001b[1;32m      5\u001b[0m decay_optimizer = schedules.ExponentialDecay(\n",
      "\u001b[0;31mImportError\u001b[0m: cannot import name 'schedules' from 'keras.optimizers' (/Users/curtisbucher/.pyenv/versions/3.9.4/envs/neural-net/lib/python3.9/site-packages/keras/optimizers.py)"
     ]
    }
   ],
   "source": [
    "from keras.optimizers import schedules\n",
    "\n",
    "print(\"Defining Learning Rate\")\n",
    "# Defining a decaying learning rate\n",
    "decay_optimizer = schedules.ExponentialDecay(\n",
    "    initial_learning_rate=0.005,\n",
    "    decay_steps= sample_size / 200,\n",
    "    decay_rate=0.98,\n",
    "    name=None)\n",
    "    \n",
    "# Compiling model\n",
    "print(\"Compiling\")\n",
    "Pos2Vec.compile(\n",
    "    optimizer=decay_optimizer,\n",
    "    loss='mean_squared_error',\n",
    ")"
   ]
  },
  {
   "cell_type": "code",
   "execution_count": null,
   "id": "d014baf7",
   "metadata": {},
   "outputs": [
    {
     "data": {
      "text/plain": [
       "10000"
      ]
     },
     "execution_count": 90,
     "metadata": {},
     "output_type": "execute_result"
    }
   ],
   "source": [
    "sample_size"
   ]
  },
  {
   "cell_type": "code",
   "execution_count": null,
   "id": "b5d103ce",
   "metadata": {},
   "outputs": [
    {
     "name": "stdout",
     "output_type": "stream",
     "text": [
      "Generating random sample\n",
      "Defining Learning Rate\n",
      "Training\n"
     ]
    },
    {
     "ename": "TypeError",
     "evalue": "fit() got an unexpected keyword argument 'optimizer'",
     "output_type": "error",
     "traceback": [
      "\u001b[0;31m---------------------------------------------------------------------------\u001b[0m",
      "\u001b[0;31mTypeError\u001b[0m                                 Traceback (most recent call last)",
      "\u001b[0;32m/var/folders/02/gffkvq1564vcmlyv8x4h9vth0000gn/T/ipykernel_44488/3095561370.py\u001b[0m in \u001b[0;36m<module>\u001b[0;34m\u001b[0m\n\u001b[1;32m     26\u001b[0m \u001b[0;34m\u001b[0m\u001b[0m\n\u001b[1;32m     27\u001b[0m \u001b[0mprint\u001b[0m\u001b[0;34m(\u001b[0m\u001b[0;34m\"Training\"\u001b[0m\u001b[0;34m)\u001b[0m\u001b[0;34m\u001b[0m\u001b[0;34m\u001b[0m\u001b[0m\n\u001b[0;32m---> 28\u001b[0;31m history = Pos2Vec.fit(\n\u001b[0m\u001b[1;32m     29\u001b[0m     \u001b[0mautoencoder_train\u001b[0m\u001b[0;34m,\u001b[0m \u001b[0mautoencoder_train\u001b[0m\u001b[0;34m,\u001b[0m\u001b[0;34m\u001b[0m\u001b[0;34m\u001b[0m\u001b[0m\n\u001b[1;32m     30\u001b[0m     \u001b[0mvalidation_data\u001b[0m\u001b[0;34m=\u001b[0m\u001b[0;34m(\u001b[0m\u001b[0mautoencoder_test\u001b[0m\u001b[0;34m,\u001b[0m \u001b[0mautoencoder_test\u001b[0m\u001b[0;34m)\u001b[0m\u001b[0;34m,\u001b[0m\u001b[0;34m\u001b[0m\u001b[0;34m\u001b[0m\u001b[0m\n",
      "\u001b[0;32m~/.pyenv/versions/3.9.4/envs/neural-net/lib/python3.9/site-packages/keras/utils/traceback_utils.py\u001b[0m in \u001b[0;36merror_handler\u001b[0;34m(*args, **kwargs)\u001b[0m\n\u001b[1;32m     65\u001b[0m     \u001b[0;32mexcept\u001b[0m \u001b[0mException\u001b[0m \u001b[0;32mas\u001b[0m \u001b[0me\u001b[0m\u001b[0;34m:\u001b[0m  \u001b[0;31m# pylint: disable=broad-except\u001b[0m\u001b[0;34m\u001b[0m\u001b[0;34m\u001b[0m\u001b[0m\n\u001b[1;32m     66\u001b[0m       \u001b[0mfiltered_tb\u001b[0m \u001b[0;34m=\u001b[0m \u001b[0m_process_traceback_frames\u001b[0m\u001b[0;34m(\u001b[0m\u001b[0me\u001b[0m\u001b[0;34m.\u001b[0m\u001b[0m__traceback__\u001b[0m\u001b[0;34m)\u001b[0m\u001b[0;34m\u001b[0m\u001b[0;34m\u001b[0m\u001b[0m\n\u001b[0;32m---> 67\u001b[0;31m       \u001b[0;32mraise\u001b[0m \u001b[0me\u001b[0m\u001b[0;34m.\u001b[0m\u001b[0mwith_traceback\u001b[0m\u001b[0;34m(\u001b[0m\u001b[0mfiltered_tb\u001b[0m\u001b[0;34m)\u001b[0m \u001b[0;32mfrom\u001b[0m \u001b[0;32mNone\u001b[0m\u001b[0;34m\u001b[0m\u001b[0;34m\u001b[0m\u001b[0m\n\u001b[0m\u001b[1;32m     68\u001b[0m     \u001b[0;32mfinally\u001b[0m\u001b[0;34m:\u001b[0m\u001b[0;34m\u001b[0m\u001b[0;34m\u001b[0m\u001b[0m\n\u001b[1;32m     69\u001b[0m       \u001b[0;32mdel\u001b[0m \u001b[0mfiltered_tb\u001b[0m\u001b[0;34m\u001b[0m\u001b[0;34m\u001b[0m\u001b[0m\n",
      "\u001b[0;32m~/.pyenv/versions/3.9.4/envs/neural-net/lib/python3.9/site-packages/keras/utils/traceback_utils.py\u001b[0m in \u001b[0;36merror_handler\u001b[0;34m(*args, **kwargs)\u001b[0m\n\u001b[1;32m     62\u001b[0m     \u001b[0mfiltered_tb\u001b[0m \u001b[0;34m=\u001b[0m \u001b[0;32mNone\u001b[0m\u001b[0;34m\u001b[0m\u001b[0;34m\u001b[0m\u001b[0m\n\u001b[1;32m     63\u001b[0m     \u001b[0;32mtry\u001b[0m\u001b[0;34m:\u001b[0m\u001b[0;34m\u001b[0m\u001b[0;34m\u001b[0m\u001b[0m\n\u001b[0;32m---> 64\u001b[0;31m       \u001b[0;32mreturn\u001b[0m \u001b[0mfn\u001b[0m\u001b[0;34m(\u001b[0m\u001b[0;34m*\u001b[0m\u001b[0margs\u001b[0m\u001b[0;34m,\u001b[0m \u001b[0;34m**\u001b[0m\u001b[0mkwargs\u001b[0m\u001b[0;34m)\u001b[0m\u001b[0;34m\u001b[0m\u001b[0;34m\u001b[0m\u001b[0m\n\u001b[0m\u001b[1;32m     65\u001b[0m     \u001b[0;32mexcept\u001b[0m \u001b[0mException\u001b[0m \u001b[0;32mas\u001b[0m \u001b[0me\u001b[0m\u001b[0;34m:\u001b[0m  \u001b[0;31m# pylint: disable=broad-except\u001b[0m\u001b[0;34m\u001b[0m\u001b[0;34m\u001b[0m\u001b[0m\n\u001b[1;32m     66\u001b[0m       \u001b[0mfiltered_tb\u001b[0m \u001b[0;34m=\u001b[0m \u001b[0m_process_traceback_frames\u001b[0m\u001b[0;34m(\u001b[0m\u001b[0me\u001b[0m\u001b[0;34m.\u001b[0m\u001b[0m__traceback__\u001b[0m\u001b[0;34m)\u001b[0m\u001b[0;34m\u001b[0m\u001b[0;34m\u001b[0m\u001b[0m\n",
      "\u001b[0;31mTypeError\u001b[0m: fit() got an unexpected keyword argument 'optimizer'"
     ]
    }
   ],
   "source": [
    "# whiteWins, blackWins\n",
    "print(\"Generating random sample\")\n",
    "sample_size = 10000#1000000\n",
    "test_size= 1000#1000\n",
    "white_sample = whiteWins[np.random.randint(whiteWins.shape[0], size=sample_size), :]\n",
    "black_sample = blackWins[np.random.randint(blackWins.shape[0], size=sample_size), :]\n",
    "\n",
    "white_test = whiteWins[np.random.randint(whiteWins.shape[0], size=test_size), :]\n",
    "black_test = blackWins[np.random.randint(blackWins.shape[0], size=test_size), :]\n",
    "\n",
    "autoencoder_train = np.concatenate([white_sample, black_sample])\n",
    "autoencoder_test = np.concatenate([white_test, black_test])\n",
    "\n",
    "early_stopping = keras.callbacks.EarlyStopping(\n",
    "    patience=500,\n",
    "    min_delta=0.0001,\n",
    "    restore_best_weights=True,\n",
    ")\n",
    "\n",
    "print(\"Training\")\n",
    "history = Pos2Vec.fit(\n",
    "    autoencoder_train, autoencoder_train,\n",
    "    validation_data=(autoencoder_test, autoencoder_test),\n",
    "    batch_size=None,\n",
    "    epochs=10, #200\n",
    "    callbacks=[early_stopping],\n",
    "    verbose=1,\n",
    ")"
   ]
  },
  {
   "cell_type": "code",
   "execution_count": null,
   "id": "0fa81313",
   "metadata": {},
   "outputs": [],
   "source": [
    "# Training the 400 node layer\n",
    "layer_1 = Pos2Vec.layers[0] # 769 - 600nodes\n",
    "layer_2 = Pos2Vec.layers[1] # 600 - 769nodes\n",
    "\n",
    "layer_1.trainable = False\n",
    "layer_2.trainable = False\n",
    "\n",
    "Pos2Vec_2 = keras.Sequential([\n",
    "    # layers.Dense(769, activation='relu', input_shape=input_shape),\n",
    "    layer_1,\n",
    "    layers.Dense(400, activation='relu'),\n",
    "    layers.Dense(600, activation='relu'),\n",
    "    layer_2,\n",
    "])"
   ]
  },
  {
   "cell_type": "code",
   "execution_count": null,
   "id": "07e52ab3",
   "metadata": {},
   "outputs": [],
   "source": [
    "# Compiling model\n",
    "Pos2Vec_2.compile(\n",
    "    optimizer=decay_optimizer,\n",
    "    loss='mean_squared_error',\n",
    ")"
   ]
  },
  {
   "cell_type": "code",
   "execution_count": null,
   "id": "7767801c",
   "metadata": {},
   "outputs": [
    {
     "name": "stdout",
     "output_type": "stream",
     "text": [
      "Training\n",
      "Epoch 1/10\n",
      "625/625 [==============================] - 9s 14ms/step - loss: 0.0125 - val_loss: 0.0080\n",
      "Epoch 2/10\n",
      "625/625 [==============================] - 7s 11ms/step - loss: 0.0081 - val_loss: 0.0077\n",
      "Epoch 3/10\n",
      "625/625 [==============================] - 8s 13ms/step - loss: 0.0079 - val_loss: 0.0075\n",
      "Epoch 4/10\n",
      "625/625 [==============================] - 7s 11ms/step - loss: 0.0078 - val_loss: 0.0076\n",
      "Epoch 5/10\n",
      "625/625 [==============================] - 7s 11ms/step - loss: 0.0078 - val_loss: 0.0075\n",
      "Epoch 6/10\n",
      "625/625 [==============================] - 7s 12ms/step - loss: 0.0078 - val_loss: 0.0076\n",
      "Epoch 7/10\n",
      "625/625 [==============================] - 8s 12ms/step - loss: 0.0077 - val_loss: 0.0077\n",
      "Epoch 8/10\n",
      "625/625 [==============================] - 8s 12ms/step - loss: 0.0078 - val_loss: 0.0078\n",
      "Epoch 9/10\n",
      "625/625 [==============================] - 7s 11ms/step - loss: 0.0078 - val_loss: 0.0077\n",
      "Epoch 10/10\n",
      "625/625 [==============================] - 7s 11ms/step - loss: 0.0077 - val_loss: 0.0075\n"
     ]
    }
   ],
   "source": [
    "print(\"Training\")\n",
    "history = Pos2Vec_2.fit(\n",
    "    autoencoder_train, autoencoder_train,\n",
    "    validation_data=(autoencoder_test, autoencoder_test),\n",
    "    batch_size=None,\n",
    "    epochs=10, #200\n",
    "    callbacks=[early_stopping],\n",
    "    verbose=1,\n",
    ")"
   ]
  },
  {
   "cell_type": "code",
   "execution_count": null,
   "id": "0fa81313",
   "metadata": {},
   "outputs": [],
   "source": [
    "# Training the 400 node layer\n",
    "layer_3 = Pos2Vec_2.layers[1] # 600 - 400nodes\n",
    "layer_4 = Pos2Vec_2.layers[2] # 400 - 600nodes\n",
    "\n",
    "layer_3.trainable = False\n",
    "layer_4.trainable = False\n",
    "\n",
    "Pos2Vec_3 = keras.Sequential([\n",
    "    # layers.Dense(769, activation='relu', input_shape=input_shape),\n",
    "    layer_1,\n",
    "    layer_3,\n",
    "    layers.Dense(200, activation='relu'),\n",
    "    layers.Dense(400, activation='relu'),\n",
    "    layer_4,\n",
    "    layer_2,\n",
    "])"
   ]
  },
  {
   "cell_type": "code",
   "execution_count": null,
   "id": "07e52ab3",
   "metadata": {},
   "outputs": [],
   "source": [
    "# Compiling model\n",
    "Pos2Vec_3.compile(\n",
    "    optimizer=decay_optimizer,\n",
    "    loss='mean_squared_error',\n",
    ")"
   ]
  },
  {
   "cell_type": "code",
   "execution_count": null,
   "id": "7767801c",
   "metadata": {},
   "outputs": [
    {
     "name": "stdout",
     "output_type": "stream",
     "text": [
      "Training\n",
      "Epoch 1/10\n",
      "625/625 [==============================] - 7s 10ms/step - loss: 0.0115 - val_loss: 0.0088\n",
      "Epoch 2/10\n",
      "625/625 [==============================] - 5s 9ms/step - loss: 0.0088 - val_loss: 0.0085\n",
      "Epoch 3/10\n",
      "625/625 [==============================] - 7s 11ms/step - loss: 0.0087 - val_loss: 0.0085\n",
      "Epoch 4/10\n",
      "625/625 [==============================] - 6s 10ms/step - loss: 0.0087 - val_loss: 0.0085\n",
      "Epoch 5/10\n",
      "625/625 [==============================] - 6s 10ms/step - loss: 0.0087 - val_loss: 0.0085\n",
      "Epoch 6/10\n",
      "625/625 [==============================] - 6s 10ms/step - loss: 0.0087 - val_loss: 0.0085\n",
      "Epoch 7/10\n",
      "625/625 [==============================] - 6s 10ms/step - loss: 0.0087 - val_loss: 0.0085\n",
      "Epoch 8/10\n",
      "625/625 [==============================] - 7s 11ms/step - loss: 0.0087 - val_loss: 0.0085\n",
      "Epoch 9/10\n",
      "625/625 [==============================] - 7s 11ms/step - loss: 0.0087 - val_loss: 0.0086\n",
      "Epoch 10/10\n",
      "625/625 [==============================] - 7s 11ms/step - loss: 0.0087 - val_loss: 0.0085\n"
     ]
    }
   ],
   "source": [
    "print(\"Training\")\n",
    "history = Pos2Vec_3.fit(\n",
    "    autoencoder_train, autoencoder_train,\n",
    "    validation_data=(autoencoder_test, autoencoder_test),\n",
    "    batch_size=None,\n",
    "    epochs=10, #200\n",
    "    callbacks=[early_stopping],\n",
    "    verbose=1,\n",
    ")"
   ]
  },
  {
   "cell_type": "code",
   "execution_count": null,
   "id": "0fa81313",
   "metadata": {},
   "outputs": [],
   "source": [
    "# Training the 400 node layer\n",
    "layer_5 = Pos2Vec_3.layers[2] # 400 - 200nodes\n",
    "layer_6 = Pos2Vec_3.layers[3] # 200 - 400nodes\n",
    "\n",
    "layer_5.trainable = False\n",
    "layer_6.trainable = False\n",
    "\n",
    "Pos2Vec_4 = keras.Sequential([\n",
    "    # layers.Dense(769, activation='relu', input_shape=input_shape),\n",
    "    layer_1,\n",
    "    layer_3,\n",
    "    layer_5,\n",
    "    layers.Dense(100, activation='relu'),\n",
    "    layers.Dense(200, activation='relu'),\n",
    "    layer_6,\n",
    "    layer_4,\n",
    "    layer_2,\n",
    "])"
   ]
  },
  {
   "cell_type": "code",
   "execution_count": null,
   "id": "07e52ab3",
   "metadata": {},
   "outputs": [],
   "source": [
    "\n",
    "# Compiling model\n",
    "Pos2Vec_4.compile(\n",
    "    optimizer=decay_optimizer,\n",
    "    loss='mean_squared_error',\n",
    ")"
   ]
  },
  {
   "cell_type": "code",
   "execution_count": null,
   "id": "7767801c",
   "metadata": {},
   "outputs": [
    {
     "name": "stdout",
     "output_type": "stream",
     "text": [
      "Training\n",
      "Epoch 1/10\n",
      "625/625 [==============================] - 7s 10ms/step - loss: 0.0177 - val_loss: 0.0131\n",
      "Epoch 2/10\n",
      "625/625 [==============================] - 6s 10ms/step - loss: 0.0121 - val_loss: 0.0112\n",
      "Epoch 3/10\n",
      "625/625 [==============================] - 7s 12ms/step - loss: 0.0113 - val_loss: 0.0110\n",
      "Epoch 4/10\n",
      "625/625 [==============================] - 7s 11ms/step - loss: 0.0112 - val_loss: 0.0110\n",
      "Epoch 5/10\n",
      "625/625 [==============================] - 8s 12ms/step - loss: 0.0111 - val_loss: 0.0109\n",
      "Epoch 6/10\n",
      "625/625 [==============================] - 9s 14ms/step - loss: 0.0111 - val_loss: 0.0109\n",
      "Epoch 7/10\n",
      "625/625 [==============================] - 8s 12ms/step - loss: 0.0111 - val_loss: 0.0108\n",
      "Epoch 8/10\n",
      "625/625 [==============================] - 7s 11ms/step - loss: 0.0111 - val_loss: 0.0109\n",
      "Epoch 9/10\n",
      "625/625 [==============================] - 8s 13ms/step - loss: 0.0111 - val_loss: 0.0108\n",
      "Epoch 10/10\n",
      "625/625 [==============================] - 8s 13ms/step - loss: 0.0109 - val_loss: 0.0107\n"
     ]
    }
   ],
   "source": [
    "print(\"Training\")\n",
    "history = Pos2Vec_4.fit(\n",
    "    autoencoder_train, autoencoder_train,\n",
    "    validation_data=(autoencoder_test, autoencoder_test),\n",
    "    batch_size=None,\n",
    "    epochs=10, #200\n",
    "    callbacks=[early_stopping],\n",
    "    verbose=1,\n",
    ")"
   ]
  },
  {
   "cell_type": "code",
   "execution_count": null,
   "id": "f4d86927",
   "metadata": {},
   "outputs": [
    {
     "name": "stdout",
     "output_type": "stream",
     "text": [
      "Model: \"sequential_12\"\n",
      "_________________________________________________________________\n",
      " Layer (type)                Output Shape              Param #   \n",
      "=================================================================\n",
      " dense_12 (Dense)            (None, 600)               462000    \n",
      "                                                                 \n",
      " dense_14 (Dense)            (None, 400)               240400    \n",
      "                                                                 \n",
      " dense_20 (Dense)            (None, 200)               80200     \n",
      "                                                                 \n",
      " dense_22 (Dense)            (None, 100)               20100     \n",
      "                                                                 \n",
      " dense_23 (Dense)            (None, 200)               20200     \n",
      "                                                                 \n",
      " dense_21 (Dense)            (None, 400)               80400     \n",
      "                                                                 \n",
      " dense_15 (Dense)            (None, 600)               240600    \n",
      "                                                                 \n",
      " dense_13 (Dense)            (None, 769)               462169    \n",
      "                                                                 \n",
      "=================================================================\n",
      "Total params: 1,606,069\n",
      "Trainable params: 40,300\n",
      "Non-trainable params: 1,565,769\n",
      "_________________________________________________________________\n"
     ]
    }
   ],
   "source": [
    "# Training the 400 node layer\n",
    "layer_7 = Pos2Vec_4.layers[3] # 400 - 200nodes\n",
    "layer_8 = Pos2Vec_4.layers[4] # 200 - 400nodes\n",
    "\n",
    "layer_7.trainable = False\n",
    "layer_8.trainable = False\n",
    "\n",
    "Pos2Vec_Final = keras.Sequential([\n",
    "    # layers.Dense(769, activation='relu', input_shape=input_shape),\n",
    "    layer_1,\n",
    "    layer_3,\n",
    "    layer_5,\n",
    "    layer_7,\n",
    "])\n"
   ]
  }
 ],
 "metadata": {
  "kernelspec": {
   "display_name": "Python 3 (ipykernel)",
   "language": "python",
   "name": "python3"
  },
  "language_info": {
   "codemirror_mode": {
    "name": "ipython",
    "version": 3
   },
   "file_extension": ".py",
   "mimetype": "text/x-python",
   "name": "python",
   "nbconvert_exporter": "python",
   "pygments_lexer": "ipython3",
   "version": "3.9.4"
  }
 },
 "nbformat": 4,
 "nbformat_minor": 5
}
