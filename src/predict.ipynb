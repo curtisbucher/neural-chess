{
 "cells": [
  {
   "cell_type": "code",
   "execution_count": 2,
   "metadata": {},
   "outputs": [],
   "source": [
    "# For reletive imports\n",
    "import sys\n",
    "sys.path.append('../../neural-chess')\n",
    "import data.util as util\n",
    "import keras\n",
    "import numpy as np\n",
    "\n",
    "from tensorflow import Tensor\n",
    "\n",
    "from keras.utils.vis_utils import plot_model"
   ]
  },
  {
   "cell_type": "code",
   "execution_count": 3,
   "metadata": {},
   "outputs": [],
   "source": [
    "fen1 = util.bitifyFEN(\n",
    "        util.beautifyFEN(\n",
    "            \"rnbqkbnr/pppppppp/8/8/8/8/PPPPPPPP/RNBQKBNR w KQkq - 0 1\"))\n",
    "\n",
    "fen2 = util.bitifyFEN(\n",
    "        util.beautifyFEN(\n",
    "            \"rnb1kbnr/pppppppp/8/8/8/8/PPPPPPPP/RNBQKBNR b KQkq - 0 1\"))"
   ]
  },
  {
   "cell_type": "code",
   "execution_count": 37,
   "metadata": {},
   "outputs": [],
   "source": [
    "DeepChess = keras.models.load_model(\"../model/DeepChess\")"
   ]
  },
  {
   "cell_type": "code",
   "execution_count": 46,
   "metadata": {},
   "outputs": [
    {
     "name": "stdout",
     "output_type": "stream",
     "text": [
      "True\n",
      "False\n"
     ]
    }
   ],
   "source": [
    "b = np.array([fen1, fen2])\n",
    "c = np.array([fen2, fen1])\n",
    "\n",
    "a = DeepChess.predict([b, c])\n",
    "\n",
    "for x in a:\n",
    "    if x[0] < x[1]:\n",
    "        print(\"True\")\n",
    "    else:\n",
    "        print(\"False\")"
   ]
  },
  {
   "cell_type": "code",
   "execution_count": 12,
   "metadata": {},
   "outputs": [
    {
     "name": "stdout",
     "output_type": "stream",
     "text": [
      "Loading training data\n",
      "Loading batch number 0\n",
      "Loading batch number 1\n",
      "Loading batch number 2\n",
      "Loading batch number 3\n",
      "Loading batch number 4\n",
      "Loading batch number 5\n",
      "Loading batch number 6\n",
      "Loading batch number 7\n",
      "Loading batch number 8\n",
      "Loading batch number 9\n",
      "Loading batch number 10\n",
      "Loading batch number 11\n",
      "Loading batch number 12\n",
      "Loading batch number 13\n",
      "Loading batch number 14\n",
      "Loading batch number 15\n",
      "Loading batch number 16\n",
      "Loading batch number 17\n",
      "Loading batch number 18\n",
      "Loading batch number 19\n",
      "Loading batch number 20\n",
      "Loading batch number 21\n",
      "Loading batch number 22\n",
      "Loading batch number 23\n",
      "Loading batch number 24\n",
      "Loading batch number 25\n",
      "Loading batch number 26\n",
      "Loading batch number 27\n",
      "Loading batch number 28\n",
      "Loading batch number 29\n"
     ]
    }
   ],
   "source": [
    "# For reletive imports\n",
    "import sys\n",
    "sys.path.append('../../neural-chess')\n",
    "from data.loader import *\n",
    "\n",
    "TRAIN_AUTOENCODER = 1\n",
    "TRAIN_NET = 1\n",
    "\n",
    "TOTAL_AE = 250000   #20\n",
    "TOTAL_MLP = 750000\n",
    "TRAIN_TEST_RATIO = 0.1\n",
    "\n",
    "BS_AE = 20\n",
    "BS_MLP = 50\n",
    "EPOCHS_AE = 1#50\n",
    "EPOCHS_MLP = 15#201\n",
    "RATE_AE = 0.005\n",
    "DECAY_AE = 0.98\n",
    "RATE_MLP = 0.005\n",
    "DECAY_MLP = 0.98\n",
    "\n",
    "BIAS = 0.15\n",
    "\n",
    "N_INPUT = 769\n",
    "ENCODING_1 = 600\n",
    "ENCODING_2 = 400\n",
    "ENCODING_3 = 200\n",
    "ENCODING_4 = 100\n",
    "\n",
    "HIDDEN_1 = 200\n",
    "HIDDEN_2 = 400\n",
    "HIDDEN_3 = 200\n",
    "HIDDEN_4 = 100\n",
    "N_OUT = 2\n",
    "\n",
    "VOLUME_SIZE = 25000\n",
    "\n",
    "#Get the data from the game files\n",
    "print(\"Loading training data\")\n",
    "training_data = getTrain(N_INPUT, TOTAL_MLP, VOLUME_SIZE)"
   ]
  },
  {
   "cell_type": "code",
   "execution_count": 36,
   "metadata": {},
   "outputs": [
    {
     "name": "stdout",
     "output_type": "stream",
     "text": [
      "True\n"
     ]
    }
   ],
   "source": [
    "whiteWins, blackWins = training_data\n",
    "\n",
    "b = np.array([blackWins[0]])\n",
    "c = np.array([whiteWins[0]])\n",
    "# print(b.shape, c.shape)\n",
    "\n",
    "a = DeepChess([b, c])\n",
    "\n",
    "\n",
    "for x in a:\n",
    "    if x[0] < x[1]:\n",
    "        print(\"True\")\n",
    "    else:\n",
    "        print(\"False\")"
   ]
  },
  {
   "cell_type": "code",
   "execution_count": 120,
   "metadata": {},
   "outputs": [
    {
     "name": "stdout",
     "output_type": "stream",
     "text": [
      "False\n",
      "False\n",
      "False\n",
      "False\n",
      "False\n",
      "False\n",
      "False\n",
      "False\n",
      "False\n",
      "True\n"
     ]
    }
   ],
   "source": [
    "whiteWins, blackWins = training_data\n",
    "\n",
    "a = DeepChess([whiteWins[0:10], blackWins[0:10]])\n",
    "\n",
    "for x in a:\n",
    "    if x[0] < x[1]:\n",
    "        print(\"True\")\n",
    "    else: \n",
    "        print(\"False\")"
   ]
  },
  {
   "cell_type": "code",
   "execution_count": null,
   "metadata": {},
   "outputs": [],
   "source": []
  }
 ],
 "metadata": {
  "interpreter": {
   "hash": "41daae443beb3bdd56043cde34b95d8d3befbdad2025abdf2e467eb8fb9563d9"
  },
  "kernelspec": {
   "display_name": "Python 3.8.12 ('tf')",
   "language": "python",
   "name": "python3"
  },
  "language_info": {
   "codemirror_mode": {
    "name": "ipython",
    "version": 3
   },
   "file_extension": ".py",
   "mimetype": "text/x-python",
   "name": "python",
   "nbconvert_exporter": "python",
   "pygments_lexer": "ipython3",
   "version": "3.8.12"
  },
  "orig_nbformat": 4
 },
 "nbformat": 4,
 "nbformat_minor": 2
}
